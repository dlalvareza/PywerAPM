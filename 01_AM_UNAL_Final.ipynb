{
 "cells": [
  {
   "cell_type": "markdown",
   "metadata": {
    "slideshow": {
     "slide_type": "slide"
    }
   },
   "source": [
    "<div style='width: auto; float: center'/>\n",
    "<table align=\"center\">\n",
    "    <tr>\n",
    "        <th>\n",
    "                <img src=\"STATIC/logoUnal.png\" style='height: 150px; width: auto; object-fit: contain;float: right'/>                                \t\t\n",
    "        </th>\n",
    "        <th>\n",
    "                <img src=\"STATIC/EMC_ACI.svg\" style='height: 150px; width: auto; object-fit: contain;float: right'/>\t\t\n",
    "        </th>        \n",
    "    </tr>\n",
    "</table>\n",
    "\n",
    "</div>\n",
    "\n",
    "<div >\n",
    "  <h1 align=\"center\">    Introducción a la Gestión de Activos -2028644    </h1>  \n",
    "\t\t\t<h2 align=\"center\">    David L. Alvarez A, Ph.D    </h2>\n",
    "\t\t\t<h3 align=\"center\">    dlalvareza@unal.edu.co      </h3>\n",
    "            <h4 align=\"center\">    Copyright (c) 2020 dlalvareza    </h4>\n",
    "</div>\t"
   ]
  },
  {
   "cell_type": "markdown",
   "metadata": {
    "slideshow": {
     "slide_type": "slide"
    }
   },
   "source": [
    "# IEEE 39-Bus System\n",
    "![title](STATIC/AUX_EXAMPLE.svg)"
   ]
  },
  {
   "cell_type": "markdown",
   "metadata": {},
   "source": [
    "## Cost of replacing assets\n",
    "| Asset Type| Cost |\n",
    "| --- | --- | \n",
    "| TR  | 2e4 | \n",
    "| OHL | 2.25e4 |\n",
    "| CB  | 5e3|\n",
    "| AUX | 2e3 |"
   ]
  },
  {
   "cell_type": "markdown",
   "metadata": {},
   "source": [
    "### Neccesary libraries"
   ]
  },
  {
   "cell_type": "code",
   "execution_count": 1,
   "metadata": {},
   "outputs": [],
   "source": [
    "import sys\n",
    "#!pip install inspyred\n",
    "#!pip install geopandas\n",
    "#!pip install contextily\n",
    "#!pip install tables\n",
    "#!pip install seaborn\n",
    "#!pip install --upgrade bokeh "
   ]
  },
  {
   "cell_type": "markdown",
   "metadata": {},
   "source": [
    "### Add PywerAM paths  "
   ]
  },
  {
   "cell_type": "code",
   "execution_count": 2,
   "metadata": {},
   "outputs": [],
   "source": [
    "sys.path.insert(0,'CASES/02_Wakanda/')\n",
    "sys.path.insert(0,'APM/BIN/')\n",
    "import datetime \n",
    "import pandas as pd\n",
    "#import numpy as np"
   ]
  },
  {
   "cell_type": "markdown",
   "metadata": {},
   "source": [
    "### Assessment parameter"
   ]
  },
  {
   "cell_type": "code",
   "execution_count": 3,
   "metadata": {},
   "outputs": [],
   "source": [
    "date_beg  = datetime.date.today()\n",
    "N_years   = 25\n",
    "d_day_for = int(N_years*365.25 )"
   ]
  },
  {
   "cell_type": "markdown",
   "metadata": {},
   "source": [
    "# 2.  Condition Estimation"
   ]
  },
  {
   "cell_type": "markdown",
   "metadata": {},
   "source": [
    "### Import run condition from APM Library"
   ]
  },
  {
   "cell_type": "code",
   "execution_count": 4,
   "metadata": {},
   "outputs": [],
   "source": [
    "from APM_Run import run_condition\n",
    "from PywerAM_bokeh_tools import plot_condition_forecast, Plot_HI_Forecast_Stacked,plot_condition_assessment,plot_decision_making, plot_scenario"
   ]
  },
  {
   "cell_type": "markdown",
   "metadata": {},
   "source": [
    "## 2.1 Run asset fleet condition\n",
    "![title](STATIC/07_Health_Index_Computation.svg)"
   ]
  },
  {
   "cell_type": "code",
   "execution_count": 5,
   "metadata": {},
   "outputs": [
    {
     "name": "stderr",
     "output_type": "stream",
     "text": [
      "APM/BIN/APM_Module_Tools.py:35: RuntimeWarning: invalid value encountered in power\n",
      "  return (1 - np.exp(-((t*beta)**(1/alpha))))\n",
      "APM/BIN/APM_Module_Tools.py:35: RuntimeWarning: divide by zero encountered in power\n",
      "  return (1 - np.exp(-((t*beta)**(1/alpha))))\n",
      "APM/BIN/APM_Module_Tools.py:35: RuntimeWarning: divide by zero encountered in double_scalars\n",
      "  return (1 - np.exp(-((t*beta)**(1/alpha))))\n",
      "APM/BIN/APM_Module.py:222: FutureWarning: Using short name for 'orient' is deprecated. Only the options: ('dict', list, 'series', 'split', 'records', 'index') will be used in a future version. Use one of the above to silence this warning.\n",
      "  dic =  df.to_dict('r')\n",
      "APM/BIN/APM_Module_Tools.py:35: RuntimeWarning: overflow encountered in power\n",
      "  return (1 - np.exp(-((t*beta)**(1/alpha))))\n",
      "APM/BIN/APM_Module_Tools.py:35: RuntimeWarning: overflow encountered in double_scalars\n",
      "  return (1 - np.exp(-((t*beta)**(1/alpha))))\n"
     ]
    }
   ],
   "source": [
    "_,_,assets = run_condition()"
   ]
  },
  {
   "cell_type": "code",
   "execution_count": 6,
   "metadata": {},
   "outputs": [],
   "source": [
    "asset_list_id   = list(assets.Asset_Portfolio.keys())        # List of asset id\n",
    "asset_list_name = list(assets.Asset_Portfolio_List.Name)\n",
    "asset_id        = asset_list_id[0]\n",
    "Cond_list       = assets.Asset_Portfolio[asset_id].cond.keys()\n",
    "l_asset         = assets.Asset_Portfolio[asset_id]"
   ]
  },
  {
   "cell_type": "markdown",
   "metadata": {},
   "source": [
    "\\begin{equation*}\n",
    "S \\left( t \\right) = 1- e ^{-\\left(\\frac{t}{l}\\right)^m}\n",
    "\\end{equation*}"
   ]
  },
  {
   "cell_type": "code",
   "execution_count": 7,
   "metadata": {},
   "outputs": [
    {
     "data": {
      "text/html": [
       "\n",
       "    <div class=\"bk-root\">\n",
       "        <a href=\"https://bokeh.org\" target=\"_blank\" class=\"bk-logo bk-logo-small bk-logo-notebook\"></a>\n",
       "        <span id=\"1002\">Loading BokehJS ...</span>\n",
       "    </div>"
      ]
     },
     "metadata": {},
     "output_type": "display_data"
    },
    {
     "data": {
      "application/javascript": [
       "\n",
       "(function(root) {\n",
       "  function now() {\n",
       "    return new Date();\n",
       "  }\n",
       "\n",
       "  var force = true;\n",
       "\n",
       "  if (typeof root._bokeh_onload_callbacks === \"undefined\" || force === true) {\n",
       "    root._bokeh_onload_callbacks = [];\n",
       "    root._bokeh_is_loading = undefined;\n",
       "  }\n",
       "\n",
       "  var JS_MIME_TYPE = 'application/javascript';\n",
       "  var HTML_MIME_TYPE = 'text/html';\n",
       "  var EXEC_MIME_TYPE = 'application/vnd.bokehjs_exec.v0+json';\n",
       "  var CLASS_NAME = 'output_bokeh rendered_html';\n",
       "\n",
       "  /**\n",
       "   * Render data to the DOM node\n",
       "   */\n",
       "  function render(props, node) {\n",
       "    var script = document.createElement(\"script\");\n",
       "    node.appendChild(script);\n",
       "  }\n",
       "\n",
       "  /**\n",
       "   * Handle when an output is cleared or removed\n",
       "   */\n",
       "  function handleClearOutput(event, handle) {\n",
       "    var cell = handle.cell;\n",
       "\n",
       "    var id = cell.output_area._bokeh_element_id;\n",
       "    var server_id = cell.output_area._bokeh_server_id;\n",
       "    // Clean up Bokeh references\n",
       "    if (id != null && id in Bokeh.index) {\n",
       "      Bokeh.index[id].model.document.clear();\n",
       "      delete Bokeh.index[id];\n",
       "    }\n",
       "\n",
       "    if (server_id !== undefined) {\n",
       "      // Clean up Bokeh references\n",
       "      var cmd = \"from bokeh.io.state import curstate; print(curstate().uuid_to_server['\" + server_id + \"'].get_sessions()[0].document.roots[0]._id)\";\n",
       "      cell.notebook.kernel.execute(cmd, {\n",
       "        iopub: {\n",
       "          output: function(msg) {\n",
       "            var id = msg.content.text.trim();\n",
       "            if (id in Bokeh.index) {\n",
       "              Bokeh.index[id].model.document.clear();\n",
       "              delete Bokeh.index[id];\n",
       "            }\n",
       "          }\n",
       "        }\n",
       "      });\n",
       "      // Destroy server and session\n",
       "      var cmd = \"import bokeh.io.notebook as ion; ion.destroy_server('\" + server_id + \"')\";\n",
       "      cell.notebook.kernel.execute(cmd);\n",
       "    }\n",
       "  }\n",
       "\n",
       "  /**\n",
       "   * Handle when a new output is added\n",
       "   */\n",
       "  function handleAddOutput(event, handle) {\n",
       "    var output_area = handle.output_area;\n",
       "    var output = handle.output;\n",
       "\n",
       "    // limit handleAddOutput to display_data with EXEC_MIME_TYPE content only\n",
       "    if ((output.output_type != \"display_data\") || (!Object.prototype.hasOwnProperty.call(output.data, EXEC_MIME_TYPE))) {\n",
       "      return\n",
       "    }\n",
       "\n",
       "    var toinsert = output_area.element.find(\".\" + CLASS_NAME.split(' ')[0]);\n",
       "\n",
       "    if (output.metadata[EXEC_MIME_TYPE][\"id\"] !== undefined) {\n",
       "      toinsert[toinsert.length - 1].firstChild.textContent = output.data[JS_MIME_TYPE];\n",
       "      // store reference to embed id on output_area\n",
       "      output_area._bokeh_element_id = output.metadata[EXEC_MIME_TYPE][\"id\"];\n",
       "    }\n",
       "    if (output.metadata[EXEC_MIME_TYPE][\"server_id\"] !== undefined) {\n",
       "      var bk_div = document.createElement(\"div\");\n",
       "      bk_div.innerHTML = output.data[HTML_MIME_TYPE];\n",
       "      var script_attrs = bk_div.children[0].attributes;\n",
       "      for (var i = 0; i < script_attrs.length; i++) {\n",
       "        toinsert[toinsert.length - 1].firstChild.setAttribute(script_attrs[i].name, script_attrs[i].value);\n",
       "        toinsert[toinsert.length - 1].firstChild.textContent = bk_div.children[0].textContent\n",
       "      }\n",
       "      // store reference to server id on output_area\n",
       "      output_area._bokeh_server_id = output.metadata[EXEC_MIME_TYPE][\"server_id\"];\n",
       "    }\n",
       "  }\n",
       "\n",
       "  function register_renderer(events, OutputArea) {\n",
       "\n",
       "    function append_mime(data, metadata, element) {\n",
       "      // create a DOM node to render to\n",
       "      var toinsert = this.create_output_subarea(\n",
       "        metadata,\n",
       "        CLASS_NAME,\n",
       "        EXEC_MIME_TYPE\n",
       "      );\n",
       "      this.keyboard_manager.register_events(toinsert);\n",
       "      // Render to node\n",
       "      var props = {data: data, metadata: metadata[EXEC_MIME_TYPE]};\n",
       "      render(props, toinsert[toinsert.length - 1]);\n",
       "      element.append(toinsert);\n",
       "      return toinsert\n",
       "    }\n",
       "\n",
       "    /* Handle when an output is cleared or removed */\n",
       "    events.on('clear_output.CodeCell', handleClearOutput);\n",
       "    events.on('delete.Cell', handleClearOutput);\n",
       "\n",
       "    /* Handle when a new output is added */\n",
       "    events.on('output_added.OutputArea', handleAddOutput);\n",
       "\n",
       "    /**\n",
       "     * Register the mime type and append_mime function with output_area\n",
       "     */\n",
       "    OutputArea.prototype.register_mime_type(EXEC_MIME_TYPE, append_mime, {\n",
       "      /* Is output safe? */\n",
       "      safe: true,\n",
       "      /* Index of renderer in `output_area.display_order` */\n",
       "      index: 0\n",
       "    });\n",
       "  }\n",
       "\n",
       "  // register the mime type if in Jupyter Notebook environment and previously unregistered\n",
       "  if (root.Jupyter !== undefined) {\n",
       "    var events = require('base/js/events');\n",
       "    var OutputArea = require('notebook/js/outputarea').OutputArea;\n",
       "\n",
       "    if (OutputArea.prototype.mime_types().indexOf(EXEC_MIME_TYPE) == -1) {\n",
       "      register_renderer(events, OutputArea);\n",
       "    }\n",
       "  }\n",
       "\n",
       "  \n",
       "  if (typeof (root._bokeh_timeout) === \"undefined\" || force === true) {\n",
       "    root._bokeh_timeout = Date.now() + 5000;\n",
       "    root._bokeh_failed_load = false;\n",
       "  }\n",
       "\n",
       "  var NB_LOAD_WARNING = {'data': {'text/html':\n",
       "     \"<div style='background-color: #fdd'>\\n\"+\n",
       "     \"<p>\\n\"+\n",
       "     \"BokehJS does not appear to have successfully loaded. If loading BokehJS from CDN, this \\n\"+\n",
       "     \"may be due to a slow or bad network connection. Possible fixes:\\n\"+\n",
       "     \"</p>\\n\"+\n",
       "     \"<ul>\\n\"+\n",
       "     \"<li>re-rerun `output_notebook()` to attempt to load from CDN again, or</li>\\n\"+\n",
       "     \"<li>use INLINE resources instead, as so:</li>\\n\"+\n",
       "     \"</ul>\\n\"+\n",
       "     \"<code>\\n\"+\n",
       "     \"from bokeh.resources import INLINE\\n\"+\n",
       "     \"output_notebook(resources=INLINE)\\n\"+\n",
       "     \"</code>\\n\"+\n",
       "     \"</div>\"}};\n",
       "\n",
       "  function display_loaded() {\n",
       "    var el = document.getElementById(\"1002\");\n",
       "    if (el != null) {\n",
       "      el.textContent = \"BokehJS is loading...\";\n",
       "    }\n",
       "    if (root.Bokeh !== undefined) {\n",
       "      if (el != null) {\n",
       "        el.textContent = \"BokehJS \" + root.Bokeh.version + \" successfully loaded.\";\n",
       "      }\n",
       "    } else if (Date.now() < root._bokeh_timeout) {\n",
       "      setTimeout(display_loaded, 100)\n",
       "    }\n",
       "  }\n",
       "\n",
       "\n",
       "  function run_callbacks() {\n",
       "    try {\n",
       "      root._bokeh_onload_callbacks.forEach(function(callback) {\n",
       "        if (callback != null)\n",
       "          callback();\n",
       "      });\n",
       "    } finally {\n",
       "      delete root._bokeh_onload_callbacks\n",
       "    }\n",
       "    console.debug(\"Bokeh: all callbacks have finished\");\n",
       "  }\n",
       "\n",
       "  function load_libs(css_urls, js_urls, callback) {\n",
       "    if (css_urls == null) css_urls = [];\n",
       "    if (js_urls == null) js_urls = [];\n",
       "\n",
       "    root._bokeh_onload_callbacks.push(callback);\n",
       "    if (root._bokeh_is_loading > 0) {\n",
       "      console.debug(\"Bokeh: BokehJS is being loaded, scheduling callback at\", now());\n",
       "      return null;\n",
       "    }\n",
       "    if (js_urls == null || js_urls.length === 0) {\n",
       "      run_callbacks();\n",
       "      return null;\n",
       "    }\n",
       "    console.debug(\"Bokeh: BokehJS not loaded, scheduling load and callback at\", now());\n",
       "    root._bokeh_is_loading = css_urls.length + js_urls.length;\n",
       "\n",
       "    function on_load() {\n",
       "      root._bokeh_is_loading--;\n",
       "      if (root._bokeh_is_loading === 0) {\n",
       "        console.debug(\"Bokeh: all BokehJS libraries/stylesheets loaded\");\n",
       "        run_callbacks()\n",
       "      }\n",
       "    }\n",
       "\n",
       "    function on_error(url) {\n",
       "      console.error(\"failed to load \" + url);\n",
       "    }\n",
       "\n",
       "    for (let i = 0; i < css_urls.length; i++) {\n",
       "      const url = css_urls[i];\n",
       "      const element = document.createElement(\"link\");\n",
       "      element.onload = on_load;\n",
       "      element.onerror = on_error.bind(null, url);\n",
       "      element.rel = \"stylesheet\";\n",
       "      element.type = \"text/css\";\n",
       "      element.href = url;\n",
       "      console.debug(\"Bokeh: injecting link tag for BokehJS stylesheet: \", url);\n",
       "      document.body.appendChild(element);\n",
       "    }\n",
       "\n",
       "    const hashes = {\"https://cdn.bokeh.org/bokeh/release/bokeh-2.3.3.min.js\": \"dM3QQsP+wXdHg42wTqW85BjZQdLNNIXqlPw/BgKoExPmTG7ZLML4EGqLMfqHT6ON\", \"https://cdn.bokeh.org/bokeh/release/bokeh-tables-2.3.3.min.js\": \"8x57I4YuIfu8XyZfFo0XVr2WAT8EK4rh/uDe3wF7YuW2FNUSNEpJbsPaB1nJ2fz2\", \"https://cdn.bokeh.org/bokeh/release/bokeh-widgets-2.3.3.min.js\": \"3QTqdz9LyAm2i0sG5XTePsHec3UHWwVsrOL68SYRoAXsafvfAyqtQ+h440+qIBhS\"};\n",
       "\n",
       "    for (let i = 0; i < js_urls.length; i++) {\n",
       "      const url = js_urls[i];\n",
       "      const element = document.createElement('script');\n",
       "      element.onload = on_load;\n",
       "      element.onerror = on_error.bind(null, url);\n",
       "      element.async = false;\n",
       "      element.src = url;\n",
       "      if (url in hashes) {\n",
       "        element.crossOrigin = \"anonymous\";\n",
       "        element.integrity = \"sha384-\" + hashes[url];\n",
       "      }\n",
       "      console.debug(\"Bokeh: injecting script tag for BokehJS library: \", url);\n",
       "      document.head.appendChild(element);\n",
       "    }\n",
       "  };\n",
       "\n",
       "  function inject_raw_css(css) {\n",
       "    const element = document.createElement(\"style\");\n",
       "    element.appendChild(document.createTextNode(css));\n",
       "    document.body.appendChild(element);\n",
       "  }\n",
       "\n",
       "  \n",
       "  var js_urls = [\"https://cdn.bokeh.org/bokeh/release/bokeh-2.3.3.min.js\", \"https://cdn.bokeh.org/bokeh/release/bokeh-widgets-2.3.3.min.js\", \"https://cdn.bokeh.org/bokeh/release/bokeh-tables-2.3.3.min.js\"];\n",
       "  var css_urls = [];\n",
       "  \n",
       "\n",
       "  var inline_js = [\n",
       "    function(Bokeh) {\n",
       "      Bokeh.set_log_level(\"info\");\n",
       "    },\n",
       "    function(Bokeh) {\n",
       "    \n",
       "    \n",
       "    }\n",
       "  ];\n",
       "\n",
       "  function run_inline_js() {\n",
       "    \n",
       "    if (root.Bokeh !== undefined || force === true) {\n",
       "      \n",
       "    for (var i = 0; i < inline_js.length; i++) {\n",
       "      inline_js[i].call(root, root.Bokeh);\n",
       "    }\n",
       "    if (force === true) {\n",
       "        display_loaded();\n",
       "      }} else if (Date.now() < root._bokeh_timeout) {\n",
       "      setTimeout(run_inline_js, 100);\n",
       "    } else if (!root._bokeh_failed_load) {\n",
       "      console.log(\"Bokeh: BokehJS failed to load within specified timeout.\");\n",
       "      root._bokeh_failed_load = true;\n",
       "    } else if (force !== true) {\n",
       "      var cell = $(document.getElementById(\"1002\")).parents('.cell').data().cell;\n",
       "      cell.output_area.append_execute_result(NB_LOAD_WARNING)\n",
       "    }\n",
       "\n",
       "  }\n",
       "\n",
       "  if (root._bokeh_is_loading === 0) {\n",
       "    console.debug(\"Bokeh: BokehJS loaded, going straight to plotting\");\n",
       "    run_inline_js();\n",
       "  } else {\n",
       "    load_libs(css_urls, js_urls, function() {\n",
       "      console.debug(\"Bokeh: BokehJS plotting callback run at\", now());\n",
       "      run_inline_js();\n",
       "    });\n",
       "  }\n",
       "}(window));"
      ],
      "application/vnd.bokehjs_load.v0+json": "\n(function(root) {\n  function now() {\n    return new Date();\n  }\n\n  var force = true;\n\n  if (typeof root._bokeh_onload_callbacks === \"undefined\" || force === true) {\n    root._bokeh_onload_callbacks = [];\n    root._bokeh_is_loading = undefined;\n  }\n\n  \n\n  \n  if (typeof (root._bokeh_timeout) === \"undefined\" || force === true) {\n    root._bokeh_timeout = Date.now() + 5000;\n    root._bokeh_failed_load = false;\n  }\n\n  var NB_LOAD_WARNING = {'data': {'text/html':\n     \"<div style='background-color: #fdd'>\\n\"+\n     \"<p>\\n\"+\n     \"BokehJS does not appear to have successfully loaded. If loading BokehJS from CDN, this \\n\"+\n     \"may be due to a slow or bad network connection. Possible fixes:\\n\"+\n     \"</p>\\n\"+\n     \"<ul>\\n\"+\n     \"<li>re-rerun `output_notebook()` to attempt to load from CDN again, or</li>\\n\"+\n     \"<li>use INLINE resources instead, as so:</li>\\n\"+\n     \"</ul>\\n\"+\n     \"<code>\\n\"+\n     \"from bokeh.resources import INLINE\\n\"+\n     \"output_notebook(resources=INLINE)\\n\"+\n     \"</code>\\n\"+\n     \"</div>\"}};\n\n  function display_loaded() {\n    var el = document.getElementById(\"1002\");\n    if (el != null) {\n      el.textContent = \"BokehJS is loading...\";\n    }\n    if (root.Bokeh !== undefined) {\n      if (el != null) {\n        el.textContent = \"BokehJS \" + root.Bokeh.version + \" successfully loaded.\";\n      }\n    } else if (Date.now() < root._bokeh_timeout) {\n      setTimeout(display_loaded, 100)\n    }\n  }\n\n\n  function run_callbacks() {\n    try {\n      root._bokeh_onload_callbacks.forEach(function(callback) {\n        if (callback != null)\n          callback();\n      });\n    } finally {\n      delete root._bokeh_onload_callbacks\n    }\n    console.debug(\"Bokeh: all callbacks have finished\");\n  }\n\n  function load_libs(css_urls, js_urls, callback) {\n    if (css_urls == null) css_urls = [];\n    if (js_urls == null) js_urls = [];\n\n    root._bokeh_onload_callbacks.push(callback);\n    if (root._bokeh_is_loading > 0) {\n      console.debug(\"Bokeh: BokehJS is being loaded, scheduling callback at\", now());\n      return null;\n    }\n    if (js_urls == null || js_urls.length === 0) {\n      run_callbacks();\n      return null;\n    }\n    console.debug(\"Bokeh: BokehJS not loaded, scheduling load and callback at\", now());\n    root._bokeh_is_loading = css_urls.length + js_urls.length;\n\n    function on_load() {\n      root._bokeh_is_loading--;\n      if (root._bokeh_is_loading === 0) {\n        console.debug(\"Bokeh: all BokehJS libraries/stylesheets loaded\");\n        run_callbacks()\n      }\n    }\n\n    function on_error(url) {\n      console.error(\"failed to load \" + url);\n    }\n\n    for (let i = 0; i < css_urls.length; i++) {\n      const url = css_urls[i];\n      const element = document.createElement(\"link\");\n      element.onload = on_load;\n      element.onerror = on_error.bind(null, url);\n      element.rel = \"stylesheet\";\n      element.type = \"text/css\";\n      element.href = url;\n      console.debug(\"Bokeh: injecting link tag for BokehJS stylesheet: \", url);\n      document.body.appendChild(element);\n    }\n\n    const hashes = {\"https://cdn.bokeh.org/bokeh/release/bokeh-2.3.3.min.js\": \"dM3QQsP+wXdHg42wTqW85BjZQdLNNIXqlPw/BgKoExPmTG7ZLML4EGqLMfqHT6ON\", \"https://cdn.bokeh.org/bokeh/release/bokeh-tables-2.3.3.min.js\": \"8x57I4YuIfu8XyZfFo0XVr2WAT8EK4rh/uDe3wF7YuW2FNUSNEpJbsPaB1nJ2fz2\", \"https://cdn.bokeh.org/bokeh/release/bokeh-widgets-2.3.3.min.js\": \"3QTqdz9LyAm2i0sG5XTePsHec3UHWwVsrOL68SYRoAXsafvfAyqtQ+h440+qIBhS\"};\n\n    for (let i = 0; i < js_urls.length; i++) {\n      const url = js_urls[i];\n      const element = document.createElement('script');\n      element.onload = on_load;\n      element.onerror = on_error.bind(null, url);\n      element.async = false;\n      element.src = url;\n      if (url in hashes) {\n        element.crossOrigin = \"anonymous\";\n        element.integrity = \"sha384-\" + hashes[url];\n      }\n      console.debug(\"Bokeh: injecting script tag for BokehJS library: \", url);\n      document.head.appendChild(element);\n    }\n  };\n\n  function inject_raw_css(css) {\n    const element = document.createElement(\"style\");\n    element.appendChild(document.createTextNode(css));\n    document.body.appendChild(element);\n  }\n\n  \n  var js_urls = [\"https://cdn.bokeh.org/bokeh/release/bokeh-2.3.3.min.js\", \"https://cdn.bokeh.org/bokeh/release/bokeh-widgets-2.3.3.min.js\", \"https://cdn.bokeh.org/bokeh/release/bokeh-tables-2.3.3.min.js\"];\n  var css_urls = [];\n  \n\n  var inline_js = [\n    function(Bokeh) {\n      Bokeh.set_log_level(\"info\");\n    },\n    function(Bokeh) {\n    \n    \n    }\n  ];\n\n  function run_inline_js() {\n    \n    if (root.Bokeh !== undefined || force === true) {\n      \n    for (var i = 0; i < inline_js.length; i++) {\n      inline_js[i].call(root, root.Bokeh);\n    }\n    if (force === true) {\n        display_loaded();\n      }} else if (Date.now() < root._bokeh_timeout) {\n      setTimeout(run_inline_js, 100);\n    } else if (!root._bokeh_failed_load) {\n      console.log(\"Bokeh: BokehJS failed to load within specified timeout.\");\n      root._bokeh_failed_load = true;\n    } else if (force !== true) {\n      var cell = $(document.getElementById(\"1002\")).parents('.cell').data().cell;\n      cell.output_area.append_execute_result(NB_LOAD_WARNING)\n    }\n\n  }\n\n  if (root._bokeh_is_loading === 0) {\n    console.debug(\"Bokeh: BokehJS loaded, going straight to plotting\");\n    run_inline_js();\n  } else {\n    load_libs(css_urls, js_urls, function() {\n      console.debug(\"Bokeh: BokehJS plotting callback run at\", now());\n      run_inline_js();\n    });\n  }\n}(window));"
     },
     "metadata": {},
     "output_type": "display_data"
    },
    {
     "data": {
      "application/vnd.jupyter.widget-view+json": {
       "model_id": "44435d2c573f4d318880b0407d285425",
       "version_major": 2,
       "version_minor": 0
      },
      "text/plain": [
       "interactive(children=(Dropdown(description='Asset_Name', options=('TR_1', 'TR_2', 'TR_3', 'TR_4', 'TR_5', 'TR_…"
      ]
     },
     "metadata": {},
     "output_type": "display_data"
    },
    {
     "data": {
      "text/plain": [
       "<function __main__.update_aset_cond(Asset_Name)>"
      ]
     },
     "execution_count": 7,
     "metadata": {},
     "output_type": "execute_result"
    }
   ],
   "source": [
    "from ipywidgets import interact\n",
    "from ipywidgets import fixed\n",
    "\n",
    "from bokeh.io import push_notebook, show, output_notebook\n",
    "output_notebook()\n",
    "\n",
    "def update_aset_cond(Asset_Name):\n",
    "    df             = assets.Asset_Portfolio_List\n",
    "    asset_id = df[df['Name'] == Asset_Name].index.values[0]\n",
    "    l_asset  = assets.Asset_Portfolio[asset_id]\n",
    "    Cond_list = list(l_asset.cond.keys())\n",
    "    interact(update_condition_plot,Cond=Cond_list,asset=fixed(l_asset))\n",
    "    \n",
    "def update_condition_plot(Cond,asset):\n",
    "    p  = plot_condition_forecast(Cond,asset,d_day_for)\n",
    "    show(p, notebook_handle=True)\n",
    "    push_notebook()\n",
    "    \n",
    "interact(update_aset_cond, Asset_Name=asset_list_name)"
   ]
  },
  {
   "cell_type": "code",
   "execution_count": 8,
   "metadata": {},
   "outputs": [
    {
     "name": "stdout",
     "output_type": "stream",
     "text": [
      "0.7914945201101267\n"
     ]
    }
   ],
   "source": [
    "df        = assets.Asset_Portfolio[asset_id].cond['TDCG'].historic_data\n",
    "cond_pred = assets.Asset_Portfolio[asset_id].cond['TDCG'].eval_cond_fit_func(date_beg)\n",
    "print(cond_pred)"
   ]
  },
  {
   "cell_type": "markdown",
   "metadata": {},
   "source": [
    "## 2.2 Health index forecast"
   ]
  },
  {
   "cell_type": "code",
   "execution_count": 9,
   "metadata": {},
   "outputs": [
    {
     "name": "stdout",
     "output_type": "stream",
     "text": [
      "CPU times: user 227 ms, sys: 0 ns, total: 227 ms\n",
      "Wall time: 227 ms\n"
     ]
    }
   ],
   "source": [
    "%%time\n",
    "date_for      = [date_beg + datetime.timedelta(days=x) for x in range(d_day_for)]\n",
    "hi            = [assets.Asset_Portfolio[asset_id].Eval_Asset_Condition(date) for date in date_for]"
   ]
  },
  {
   "cell_type": "markdown",
   "metadata": {},
   "source": [
    "\\begin{equation*}\n",
    " HI \\left( {\\color{DColor9}t} \\right) = \\cfrac{\\sum\\limits_{n=1}^{N}\\beta_n(S\\left(  {\\color{DColor9}t}\\right)_n \\cdot w_n)}{\\sum\\limits_{n=1}^N\\beta_n w_n}\n",
    "\\end{equation*}"
   ]
  },
  {
   "cell_type": "code",
   "execution_count": 10,
   "metadata": {
    "scrolled": false
   },
   "outputs": [
    {
     "data": {
      "application/vnd.jupyter.widget-view+json": {
       "model_id": "1cd3389f552145c7886c159bed7ce87e",
       "version_major": 2,
       "version_minor": 0
      },
      "text/plain": [
       "interactive(children=(Dropdown(description='Asset_Name', options=('TR_1', 'TR_2', 'TR_3', 'TR_4', 'TR_5', 'TR_…"
      ]
     },
     "metadata": {},
     "output_type": "display_data"
    },
    {
     "data": {
      "text/plain": [
       "<function __main__.update_HI_plot(Asset_Name)>"
      ]
     },
     "execution_count": 10,
     "metadata": {},
     "output_type": "execute_result"
    }
   ],
   "source": [
    "def update_HI_plot(Asset_Name):\n",
    "    df             = assets.Asset_Portfolio_List\n",
    "    asset_id       = df[df['Name'] == Asset_Name].index.values[0]      #global asset_id\n",
    "    print('Asset Id:' +str(asset_id))\n",
    "    asset         = assets.Asset_Portfolio[asset_id]\n",
    "    date_for      = [date_beg + datetime.timedelta(days=x) for x in range(d_day_for)]\n",
    "    \n",
    "    fig           = Plot_HI_Forecast_Stacked(asset,date_for)\n",
    "    show(fig, notebook_handle=True)\n",
    "    push_notebook()\n",
    "    \n",
    "interact(update_HI_plot, Asset_Name=asset_list_name)"
   ]
  },
  {
   "cell_type": "markdown",
   "metadata": {},
   "source": [
    "## 2.3 Load criticality data"
   ]
  },
  {
   "cell_type": "code",
   "execution_count": 11,
   "metadata": {},
   "outputs": [
    {
     "name": "stdout",
     "output_type": "stream",
     "text": [
      "RESULTS/Results_ACM.h5\n"
     ]
    }
   ],
   "source": [
    "from ARM_Run import load_criticality\n",
    "df_ACP           = load_criticality()"
   ]
  },
  {
   "cell_type": "markdown",
   "metadata": {},
   "source": [
    "### Probabilty of failure"
   ]
  },
  {
   "cell_type": "code",
   "execution_count": 12,
   "metadata": {},
   "outputs": [
    {
     "ename": "ImportError",
     "evalue": "cannot import name 'Desicion_Making' from 'PywerAM_Scenario_Assessment' (APM/BIN/PywerAM_Scenario_Assessment.py)",
     "output_type": "error",
     "traceback": [
      "\u001b[0;31m---------------------------------------------------------------------------\u001b[0m",
      "\u001b[0;31mImportError\u001b[0m                               Traceback (most recent call last)",
      "\u001b[0;32m/tmp/ipykernel_21254/2010556377.py\u001b[0m in \u001b[0;36m<module>\u001b[0;34m\u001b[0m\n\u001b[0;32m----> 1\u001b[0;31m \u001b[0;32mfrom\u001b[0m \u001b[0mPywerAM_Scenario_Assessment\u001b[0m \u001b[0;32mimport\u001b[0m \u001b[0mDesicion_Making\u001b[0m\u001b[0;34m\u001b[0m\u001b[0;34m\u001b[0m\u001b[0m\n\u001b[0m",
      "\u001b[0;31mImportError\u001b[0m: cannot import name 'Desicion_Making' from 'PywerAM_Scenario_Assessment' (APM/BIN/PywerAM_Scenario_Assessment.py)"
     ]
    }
   ],
   "source": [
    "from PywerAM_Scenario_Assessment import Desicion_Making"
   ]
  },
  {
   "cell_type": "code",
   "execution_count": null,
   "metadata": {},
   "outputs": [],
   "source": [
    "%%time\n",
    "DMS            = Desicion_Making(assets,df_ACP)\n",
    "DMS.R          = 0.13   # Discount rate\n",
    "DMS.date_beg   = date_beg\n",
    "DMS.N_days     = d_day_for\n",
    "# Scenario do nothing\n",
    "#DMS.run_scenario_base()"
   ]
  },
  {
   "cell_type": "code",
   "execution_count": null,
   "metadata": {},
   "outputs": [],
   "source": [
    "# Load Scenario do nothing\n",
    "DMS.load_scenario_base()"
   ]
  },
  {
   "cell_type": "markdown",
   "metadata": {},
   "source": [
    "\n",
    "\\begin{equation*}\n",
    "POF \\left(  {\\color{DColor9}t}\\right)= 1-R\\left( {\\color{DColor9}t}\\right)\n",
    "\\end{equation*}\n",
    "\n",
    "\\begin{equation*}\n",
    "R \\left(  {\\color{DColor9}t} \\right)= e^{-\\int_{T_i}^{T_{end}}\\lambda \\left( {\\color{DColor9}t}\\right) \\, dt}\n",
    "\\end{equation*}\n",
    "\n",
    "\n",
    "\n",
    "\n",
    "\\begin{equation*}\n",
    "\\lambda\\left( {\\color{DColor9}t}\\right)= {\\color{DColor3}a} \\cdot e^{ {\\color{DColor3}b}\\cdot HI \\left( {\\color{DColor9}t}\\right)}+ {\\color{DColor3}c}\n",
    "\\end{equation*}"
   ]
  },
  {
   "cell_type": "code",
   "execution_count": null,
   "metadata": {},
   "outputs": [],
   "source": [
    "def update_HI_plot(Asset_Id):\n",
    "    asset         = assets.Asset_Portfolio[Asset_Id]\n",
    "    df            = DMS.scenario['Base'][Asset_Id]['Con'] #asset.POF_R_Assessment(date_beg,d_day_for*24)\n",
    "    print(df.head())\n",
    "    p    = plot_condition_assessment(df)\n",
    "    show(p, notebook_handle=True)\n",
    "    push_notebook()\n",
    "    \n",
    "interact(update_HI_plot, Asset_Id=asset_list_id)"
   ]
  },
  {
   "cell_type": "markdown",
   "metadata": {},
   "source": [
    "# 3 Plot criticality"
   ]
  },
  {
   "cell_type": "code",
   "execution_count": null,
   "metadata": {},
   "outputs": [],
   "source": [
    "from bokeh.plotting import figure\n",
    "def update_Cr_plot(Asset_Id):\n",
    "    asset_name     = assets.Asset_Portfolio_List.loc[Asset_Id].Name\n",
    "    df             = df_ACP[df_ACP[asset_name]==True]\n",
    "    p              = figure(title=\"PyweAM - Asset: \"+asset_name, plot_height=500, plot_width=950,background_fill_color='#808080',x_axis_type='datetime')\n",
    "    p.circle(df[\"Date\"], df[\"Cr\"], fill_alpha=0.2, size=10)\n",
    "    show(p, notebook_handle=True)\n",
    "    push_notebook()\n",
    "    \n",
    "interact(update_Cr_plot, Asset_Id=asset_list_id)"
   ]
  },
  {
   "cell_type": "code",
   "execution_count": null,
   "metadata": {},
   "outputs": [],
   "source": [
    "DMS.scenario['Base'][1]['RI']"
   ]
  },
  {
   "cell_type": "markdown",
   "metadata": {},
   "source": [
    "# 4 Risk Index\n",
    "\\begin{equation*}\n",
    "RI_i \\left( t \\right) = POF_i \\left( t \\right) \\times  Cr_i \\left( t \\right)\n",
    "\\end{equation*}"
   ]
  },
  {
   "cell_type": "code",
   "execution_count": null,
   "metadata": {},
   "outputs": [],
   "source": [
    "def update_Cr_plot(Asset_Id,Scenario):\n",
    "    # # # # # # # # # #            \n",
    "    asset_name     = assets.Asset_Portfolio_List.loc[Asset_Id].Name\n",
    "    df              = DMS.scenario[Scenario][Asset_Id]['RI']\n",
    "    p             = figure(title=\"PyweAM - Asset: \"+asset_name, plot_height=500, plot_width=950,background_fill_color='#808080',x_axis_type='datetime')\n",
    "    p.line(df[\"date\"], -df[\"Cr\"])\n",
    "    p.line(df[\"date\"], -df[\"RI\"], color='#FF0000',)\n",
    "    \n",
    "    show(p, notebook_handle=True)\n",
    "    push_notebook()\n",
    "    print(df)\n",
    "\n",
    "interact(update_Cr_plot, Asset_Id=asset_list_id,Scenario=DMS.scenario.keys())"
   ]
  },
  {
   "cell_type": "markdown",
   "metadata": {},
   "source": [
    "## 5. Decision-Making\n",
    "### Replacement strategies\n",
    "#### Strategy 1"
   ]
  },
  {
   "cell_type": "code",
   "execution_count": null,
   "metadata": {},
   "outputs": [],
   "source": [
    "decision = {'Poject_ID': ['01','02','03','04'],\n",
    "            'Asset_id': [1,3,12,95],\n",
    "            'Des_Type': ['Replace','Replace','Replace','Replace'],\n",
    "            'Cost'    : [2e4,2e4,2e4,2.25e4],\n",
    "            'Impr'    : [1,1,1,1],\n",
    "            'Date'    : [datetime.date(2028, 6, 1),datetime.date(2025, 6, 1),datetime.date(2027, 6, 1),datetime.date(2035, 6, 1)]\n",
    "           }\n",
    "\n",
    "df_dec         = pd.DataFrame.from_dict(decision)\n",
    "s_name         = 'Scenario 1' \n",
    "DMS.run_scenario(s_name,df_dec)"
   ]
  },
  {
   "cell_type": "markdown",
   "metadata": {},
   "source": [
    "#### Strategy 2"
   ]
  },
  {
   "cell_type": "code",
   "execution_count": null,
   "metadata": {},
   "outputs": [],
   "source": [
    "decision = {'Poject_ID': ['01','02','03','04','05','06','07','08','09','10','11','12'],\n",
    "            'Asset_id': [1,3,12,101,103,76,3,86,10,102,5,4],\n",
    "            'Des_Type': ['Replace','Replace','Replace','Replace','Replace','Replace','Replace','Replace','Replace','Replace','Replace','Replace'],\n",
    "            'Cost'    : [2e4,2e4,2e4,2.25e4,2e4,2e4,2e4,2.25e4,2e4,2e4,2e4,2.25e4],\n",
    "            'Impr'    : [1,1,1,1,1,1,1,1,1,1,1,1],\n",
    "            'Date'    : [datetime.date(2022, 6, 1),datetime.date(2022, 6, 1),datetime.date(2022, 6, 1),datetime.date(2022, 6, 1),\n",
    "                         datetime.date(2022, 6, 1),datetime.date(2022, 6, 1),datetime.date(2022, 6, 1),datetime.date(2022, 6, 1),\n",
    "                         datetime.date(2022, 6, 1),datetime.date(2022, 6, 1),datetime.date(2022, 6, 1),datetime.date(2022, 6, 1)]\n",
    "           }\n",
    "df_dec         = pd.DataFrame.from_dict(decision)\n",
    "s_name         = 'Scenario_2' \n",
    "DMS.run_scenario(s_name,df_dec)"
   ]
  },
  {
   "cell_type": "code",
   "execution_count": null,
   "metadata": {},
   "outputs": [],
   "source": [
    "def HI_plot(Asset_Id,Scenario):\n",
    "    df = DMS.scenario[Scenario][Asset_Id]['Con']\n",
    "    print(df.head())\n",
    "    p    = plot_condition_assessment(df)\n",
    "    show(p, notebook_handle=True)\n",
    "    push_notebook()\n",
    "    \n",
    "interact(HI_plot, Asset_Id=asset_list_id,Scenario=DMS.scenario.keys())"
   ]
  },
  {
   "cell_type": "markdown",
   "metadata": {},
   "source": [
    "### Financial assessment"
   ]
  },
  {
   "cell_type": "code",
   "execution_count": null,
   "metadata": {},
   "outputs": [],
   "source": [
    "def PV_plot(Asset_Id,Scenario):\n",
    "    df           = DMS.scenario[Scenario][Asset_Id]['CF']\n",
    "    asset_name  = assets.Asset_Portfolio_List.loc[Asset_Id].Name\n",
    "    print(df.head())\n",
    "    p             = figure(title=\"PyweAM - Asset: \"+asset_name, plot_height=500, plot_width=950,x_axis_type='datetime')\n",
    "    p.vbar(x= df[\"date\"], top=df[\"RI\"], width=1e10)\n",
    "    p.line(df[\"date\"], df[\"Cash_flow\"], color='#FF0000',)\n",
    "    \n",
    "    show(p, notebook_handle=True)\n",
    "    push_notebook()\n",
    "\n",
    "interact(PV_plot, Asset_Id=asset_list_id,Scenario=DMS.scenario.keys())"
   ]
  },
  {
   "cell_type": "code",
   "execution_count": null,
   "metadata": {},
   "outputs": [],
   "source": [
    "def PV_by_scenario(dms):\n",
    "    l_scen     = []\n",
    "    l_asset_id = []\n",
    "    l_asset_pv = []\n",
    "\n",
    "    for sce in dms.scenario:\n",
    "        l_scen_dic = dms.scenario[sce]\n",
    "        for asset_id in l_scen_dic:  \n",
    "            l_asset_dic = l_scen_dic[asset_id]\n",
    "        \n",
    "            l_scen.append(sce)\n",
    "            l_asset_id.append(asset_id)\n",
    "            l_asset_pv.append(l_asset_dic['PV'])\n",
    "\n",
    "    l_dic = {'scenario': l_scen,\n",
    "         'id': l_asset_id,\n",
    "         'PV': l_asset_pv\n",
    "        }        \n",
    "    l_df = pd.DataFrame(l_dic)\n",
    "    l_group = l_df.groupby(['scenario'])\n",
    "    print(l_group['PV'].sum())\n",
    "    return l_df\n",
    "\n",
    "l_df = PV_by_scenario(DMS)    "
   ]
  },
  {
   "cell_type": "code",
   "execution_count": null,
   "metadata": {
    "scrolled": false
   },
   "outputs": [],
   "source": [
    "def PV_plot_DM(per,df):         \n",
    "    df    = df.sort_values(by=['PV'])\n",
    "    df    = df.head(int(len(df)*(per/100)))\n",
    "    df.id = df.id.apply(str)\n",
    "    p     = plot_decision_making(df)\n",
    "    show(p, notebook_handle=True)\n",
    "    push_notebook()\n",
    "    \n",
    "interact(PV_plot_DM, per=(0.0,100,5),df=fixed(l_df))"
   ]
  },
  {
   "cell_type": "code",
   "execution_count": null,
   "metadata": {},
   "outputs": [],
   "source": [
    "def Risk_Forecast(scenario_name,plot,sce):\n",
    "    p = plot_scenario(scenario_name,plot,sce)\n",
    "    show(p, notebook_handle=True)\n",
    "    push_notebook()\n",
    "\n",
    "interact(Risk_Forecast, scenario_name=DMS.scenario.keys(),plot=['RI','Cum_Sum_PV'],sce=fixed(DMS.scenario))"
   ]
  },
  {
   "cell_type": "markdown",
   "metadata": {},
   "source": [
    "#### Eval present value"
   ]
  },
  {
   "cell_type": "code",
   "execution_count": null,
   "metadata": {},
   "outputs": [],
   "source": [
    "_=PV_by_scenario(DMS)  "
   ]
  },
  {
   "cell_type": "code",
   "execution_count": null,
   "metadata": {},
   "outputs": [],
   "source": [
    "decision = {'Poject_ID': ['01','02','03','04','05','06','07','08','09','10','11','12','13','14','15'],\n",
    "            'Asset_id': [12,101,76,103,86,102,3,10,104,78,5,82,91,98,89],\n",
    "            'Des_Type': ['Replace','Replace','Replace','Replace','Replace','Replace','Replace','Replace','Replace','Replace','Replace','Replace','Replace','Replace','Replace'],\n",
    "            'Cost'    : [2e4,2.25e4,2.25e4,2.25e4,2.25e4,2.25e4,2e4,2e4,2.25e4,2.25e4,2e4,2.25e4,2.25e4,2.25e4,2.25e4],\n",
    "            'Impr'    : [1,1,1,1,1,1,1,1,1,1,1,1,1,1,1],\n",
    "            'Date'    : [datetime.date(2021, 6, 1),datetime.date(2021, 6, 1),datetime.date(2022, 6, 1),datetime.date(2022, 6, 1),\n",
    "                         datetime.date(2023, 6, 1),datetime.date(2027, 6, 1),datetime.date(2023, 6, 1),datetime.date(2024, 6, 1),\n",
    "                         datetime.date(2024, 6, 1),datetime.date(2029, 6, 1),datetime.date(2025, 6, 1),datetime.date(2031, 6, 1),\n",
    "                         datetime.date(2031, 6, 1),datetime.date(2030, 6, 1),datetime.date(2030, 6, 1)]\n",
    "                    }\n",
    "df_dec         = pd.DataFrame.from_dict(decision)\n",
    "s_name         = 'Guillermo_Yeison' \n",
    "DMS.run_scenario(s_name,df_dec)\n"
   ]
  }
 ],
 "metadata": {
  "kernelspec": {
   "display_name": "Python 3 (ipykernel)",
   "language": "python",
   "name": "python3"
  },
  "language_info": {
   "codemirror_mode": {
    "name": "ipython",
    "version": 3
   },
   "file_extension": ".py",
   "mimetype": "text/x-python",
   "name": "python",
   "nbconvert_exporter": "python",
   "pygments_lexer": "ipython3",
   "version": "3.7.7"
  }
 },
 "nbformat": 4,
 "nbformat_minor": 4
}
